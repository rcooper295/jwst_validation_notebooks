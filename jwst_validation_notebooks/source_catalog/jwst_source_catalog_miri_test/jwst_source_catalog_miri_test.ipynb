{
 "cells": [
  {
   "cell_type": "markdown",
   "metadata": {},
   "source": [
    "<a id=\"title_ID\"></a>\n",
    "# JWST Pipeline Validation Notebook: calwebb_image3: source_catalog with MIRI\n",
    "\n",
    "<span style=\"color:red\"> **Instruments Affected**</span>: MIRI, NIRCam \n",
    "\n",
    "\n",
    "Tested on MIRI Simulated data\n",
    "\n",
    "### Table of Contents\n",
    "<div style=\"text-align: left\"> \n",
    "\n",
    "<br>  [Introduction](#intro_ID) <br> [Imports](#imports_ID) <br> [Run Pipeline](#pipeline_ID) <br> [Check Results](#output_ID) <br> [About This Notebook](#about_ID) <br>\n",
    "\n",
    "\n",
    "</div>"
   ]
  },
  {
   "cell_type": "markdown",
   "metadata": {},
   "source": [
    "<a id=\"intro_ID\"></a>\n",
    "\n",
    "## Introduction\n",
    "\n",
    "This notebook processes an image through calwebb_image2 and calwebb_image3 (calwebb_detector1 is optional) and examines the output table of the source_catalog step. \n",
    "\n",
    "This test uses simulated MIRI F560W data of a crowded star + galaxy field.\n",
    "\n",
    "The pipeline documentation can be found here: https://jwst-pipeline.readthedocs.io/en/latest/jwst/source_catalog/main.html\n",
    "\n",
    "The pipeline code is available on GitHub: https://github.com/spacetelescope/jwst\n",
    "\n"
   ]
  },
  {
   "cell_type": "markdown",
   "metadata": {},
   "source": [
    "### JWST Calibration working group algorithm\n",
    "\n",
    "The algorithm and discussion for this step can be found at the following page:\n",
    "\n",
    "https://outerspace.stsci.edu/display/JWSTCC/Vanilla+Point+Source+Catalog"
   ]
  },
  {
   "cell_type": "markdown",
   "metadata": {},
   "source": [
    "### Test description\n",
    "\n",
    "The steps of this test are as follow:\n",
    "\n",
    "1) Set up data path and directory and image files name.\n",
    "\n",
    "2) Run input data through calwebb_detector1  (optional).\n",
    "\n",
    "3) Run output of calwebb_detector1 through calwebb_image2.\n",
    "\n",
    "4) Run output of calwebb_image2 through calwebb_image3. \n",
    "\n",
    "5) Read in output table of source_catalog step and print ecsv table \n",
    "\n",
    "6) Display image and overplot detector sources from ecsv table. \n",
    "\n",
    "7) Look at plots of total flux in Jy and AB mag.\n",
    "\n",
    "8) Look for matches between expected source positions (RA and Dec) from simulated catalog to output from source_catalog."
   ]
  },
  {
   "cell_type": "markdown",
   "metadata": {},
   "source": [
    "### Data description\n",
    "\n",
    "The data used in this test consist of a set of four simulated images in the F560W filter of MIRI, at four different dither positions. The data have 4827 stars of varying flux levels and just over 200 galaxies in the image. The MIRI Image simulator (MIRISim) was used to create the simulations."
   ]
  },
  {
   "cell_type": "markdown",
   "metadata": {},
   "source": [
    "### Create a temporary directory for all of the test data"
   ]
  },
  {
   "cell_type": "code",
   "execution_count": null,
   "metadata": {},
   "outputs": [],
   "source": [
    "# Create a temporary directory to hold notebook output, and change the working directory to that directory.\n",
    "from tempfile import TemporaryDirectory\n",
    "import os\n",
    "data_dir = TemporaryDirectory()\n",
    "os.chdir(data_dir.name)\n",
    "\n",
    "# For info, print out where the script is running\n",
    "print(\"Running in {}\".format(os.getcwd()))"
   ]
  },
  {
   "cell_type": "markdown",
   "metadata": {},
   "source": [
    "<a id=\"imports_ID\"></a>\n",
    "### Set up import statements\n",
    "\n",
    "The following packages are needed to enable this notebook to run:\n",
    "* astropy for coordinate handling and calculations\n",
    "* jwst to run the pipeline steps and create associations\n",
    "* matplotlib for plotting\n",
    "* ci_watson for retrieving data from artifactory\n",
    "\n",
    "[Top of Page](#title_ID)"
   ]
  },
  {
   "cell_type": "code",
   "execution_count": null,
   "metadata": {},
   "outputs": [],
   "source": [
    "#import pytest\n",
    "import numpy as np\n",
    "from glob import glob\n",
    "import json\n",
    "import matplotlib.pyplot as plt\n",
    "import photutils\n",
    "\n",
    "from astropy.io import fits, ascii\n",
    "from astropy.coordinates import Angle\n",
    "from astropy.table import Table, vstack, unique, join\n",
    "#from astropy.stats import sigma_clip\n",
    "#from astropy.utils.data import get_pkg_data_filename\n",
    "from astropy import table\n",
    "from astropy.coordinates import SkyCoord\n",
    "from astropy.visualization import simple_norm\n",
    "from astropy import units as u\n",
    "\n",
    "# Box download imports \n",
    "from astropy.utils.data import download_file\n",
    "from pathlib import Path\n",
    "from shutil import move\n",
    "from os.path import splitext\n",
    "\n",
    "import jwst\n",
    "from jwst import datamodels\n",
    "from jwst.datamodels import RampModel, ImageModel\n",
    "\n",
    "from jwst import associations\n",
    "from jwst.associations import asn_from_list\n",
    "from jwst.associations.lib.rules_level3_base import DMS_Level3_Base\n",
    "\n",
    "from jwst.pipeline import calwebb_image3\n",
    "from jwst.pipeline import calwebb_image2\n",
    "from jwst.pipeline import calwebb_detector1\n",
    "from jwst.pipeline import Detector1Pipeline, Image2Pipeline, Image3Pipeline\n",
    "\n",
    "from ci_watson.artifactory_helpers import get_bigdata\n"
   ]
  },
  {
   "cell_type": "markdown",
   "metadata": {},
   "source": [
    "### Put in some helper scripts\n"
   ]
  },
  {
   "cell_type": "code",
   "execution_count": null,
   "metadata": {},
   "outputs": [],
   "source": [
    "def create_scatterplot(catalog_colx, catalog_coly, title=None):\n",
    "    ''' Function to generate a generic scatterplot.\n",
    "    '''\n",
    "    \n",
    "    fig = plt.figure(figsize=(8, 8))\n",
    "    ax = plt.subplot()\n",
    "    ax.scatter(catalog_colx,catalog_coly) \n",
    "    plt.xlabel(catalog_colx.name)\n",
    "    plt.ylabel(catalog_coly.name)\n",
    "\n",
    "    \n",
    "    if title:\n",
    "        plt.title(title)"
   ]
  },
  {
   "cell_type": "markdown",
   "metadata": {},
   "source": [
    "### Print pipeline version number"
   ]
  },
  {
   "cell_type": "code",
   "execution_count": null,
   "metadata": {},
   "outputs": [],
   "source": [
    "print(jwst.__version__) \n",
    "print(data_dir)"
   ]
  },
  {
   "cell_type": "markdown",
   "metadata": {},
   "source": [
    "### Read in data from artifactory"
   ]
  },
  {
   "cell_type": "code",
   "execution_count": null,
   "metadata": {},
   "outputs": [],
   "source": [
    "# Read in new dataset from Box\n",
    "\n",
    "def get_box_files(file_list):\n",
    "    for box_url,file_name in file_list:\n",
    "        if 'https' not in box_url:\n",
    "            box_url = 'https://stsci.box.com/shared/static/' + box_url\n",
    "        downloaded_file = download_file(box_url)\n",
    "        if Path(file_name).suffix == '':\n",
    "            ext = splitext(box_url)[1]\n",
    "            file_name += ext\n",
    "        move(downloaded_file, file_name)\n",
    "\n",
    "file_urls = ['https://stsci.box.com/shared/static/g8ozd2wkdo9klrtkafpe9qegpzhpd66a.fits', \n",
    "             'https://stsci.box.com/shared/static/ym75nbqdi32t9wnbanm6s57itqixniyc.fits', \n",
    "             'https://stsci.box.com/shared/static/0bqh6ijsc6kd7cyv6gtnj9kvly9t885f.fits',\n",
    "             'https://stsci.box.com/shared/static/tywadpqcjhp9yxyv0sy91hc79red92xm.fits',\n",
    "             'https://stsci.box.com/shared/static/lpcgp7jkq6lmjj2lxpk63jz9u05qgk3a.cat',\n",
    "             'https://stsci.box.com/shared/static/15j6hkjc28zow4rjepob2t75dl887zs3.cat']\n",
    "\n",
    "file_names = ['det_image_seq1_MIRIMAGE_F560Wexp1_rate.fits', \n",
    "             'det_image_seq2_MIRIMAGE_F560Wexp1_rate.fits', \n",
    "             'det_image_seq3_MIRIMAGE_F560Wexp1_rate.fits',\n",
    "             'det_image_seq4_MIRIMAGE_F560Wexp1_rate.fits',\n",
    "             'input_sim_stars.cat',\n",
    "             'input_sim_galaxies.cat']\n",
    "\n",
    "box_download_list = [(url,name) for url,name in zip(file_urls,file_names)]\n",
    "\n",
    "\n",
    "get_box_files(box_download_list)\n"
   ]
  },
  {
   "cell_type": "markdown",
   "metadata": {},
   "source": [
    "<a id=\"pipeline_ID\"></a>\n",
    "## Run Pipelines\n",
    "\n",
    "Read in the data and run the JWST calibration pipelines.\n"
   ]
  },
  {
   "cell_type": "markdown",
   "metadata": {},
   "source": [
    "### Run input data through calwebb_detector1  (not done here)"
   ]
  },
  {
   "cell_type": "code",
   "execution_count": null,
   "metadata": {},
   "outputs": [],
   "source": [
    "#det1 = calwebb_detector1.Detector1Pipeline()\n",
    "#det1.save_results = True\n",
    "#det1.run(im)"
   ]
  },
  {
   "cell_type": "markdown",
   "metadata": {},
   "source": [
    "### Run output of calwebb_detector1 through calwebb_image2"
   ]
  },
  {
   "cell_type": "code",
   "execution_count": null,
   "metadata": {},
   "outputs": [],
   "source": [
    "# Run Calwebb_image2 on output files from detector1\n",
    "ratefiles = glob('*rate.fits')    \n",
    "    \n",
    "print('There are ', len(ratefiles), ' images.')\n",
    "    \n",
    "callist = []\n",
    "\n",
    "# cycle through files\n",
    "for im in ratefiles:\n",
    "    pipe2 = Image2Pipeline()\n",
    "    \n",
    "    rampfile = ImageModel(im)\n",
    "    filename = rampfile.meta.filename\n",
    "    # Set pipeline parameters\n",
    "\n",
    "    pipe2.save_results = True\n",
    "    pipe2.output_file = filename +'_cal.fits'\n",
    "    pipe2.resample.save_results = True\n",
    "    pipe2.suffix = None\n",
    "\n",
    "    calfile = pipe2.run(rampfile)\n",
    "\n",
    "    callist.append(calfile)\n",
    "\n",
    "print(callist)"
   ]
  },
  {
   "cell_type": "markdown",
   "metadata": {},
   "source": [
    "### Run output of calwebb_image2 through calwebb_image3"
   ]
  },
  {
   "cell_type": "markdown",
   "metadata": {},
   "source": [
    "### Create an association file to combine the input calibrated files"
   ]
  },
  {
   "cell_type": "code",
   "execution_count": null,
   "metadata": {},
   "outputs": [],
   "source": [
    "# use asn_from_list to create association table\n",
    "\n",
    "calfiles = glob('*_cal.fits')\n",
    "asn = asn_from_list.asn_from_list(calfiles, rule=DMS_Level3_Base, product_name='starfield_combined.fits')\n",
    "\n",
    "# use this if you need to add non'science' exposure types\n",
    "#asn['products'][0]['members'][1]['exptype'] = 'background'\n",
    "#asn['products'][0]['members'][2]['exptype'] = 'sourcecat'\n",
    "\n",
    "# dump association table to a .json file for use in image3\n",
    "with open('starfield_asnfile.json', 'w') as fp:\n",
    "    fp.write(asn.dump()[1])\n",
    "\n",
    "print(asn)    \n"
   ]
  },
  {
   "cell_type": "markdown",
   "metadata": {},
   "source": [
    "### Run Calwebb_Image3 pipeline\n",
    "\n",
    "For MIRI, the FWHM values are dependent on filter and should be set using the table below:\n",
    "\n",
    "|Filter | FWHM  |\n",
    "|-------| -------|\n",
    "|F560W      |     1.636\t\t|\t\n",
    "|F770W      |     2.187\t\t|\n",
    "|F1000W     |     2.888\t\t|\n",
    "|F1130W     |     3.318\t\t|\n",
    "|F1280W     |     3.713\t\t|\n",
    "|F1500W     |     4.354\t\t|\n",
    "|F1800W     |     5.224\t\t|\n",
    "|F2100W     |     5.989\t\t|\n",
    "|F2550W     |     7.312\t\t|\n",
    "|F2550WR    |     7.312\t    | \n",
    "\n",
    "For the fit geometry keyword, the following options are available:\n",
    "fitgeometry: A str value indicating the type of affine transformation to be considered when fitting catalogs. Allowed values:\n",
    "\n",
    "  *  'shift': x/y shifts only\n",
    "\n",
    "  *  'rscale': rotation and scale\n",
    "\n",
    "  *  'rshift': rotation and shifts\n",
    "\n",
    "  *  'general': shift, rotation, and scale (Default=”general”)\n"
   ]
  },
  {
   "cell_type": "code",
   "execution_count": null,
   "metadata": {},
   "outputs": [],
   "source": [
    "# Run Calwebb_image3 on the association table\n",
    "    \n",
    "# set any specific parameters\n",
    "# tweakreg parameters to allow data to run\n",
    "fwhm = 1.636  # Gaussian kernel FWHM of objects expected, default=2.5\n",
    "minobj = 5   # minimum number of objects needed to match positions for a good fit, default=15\n",
    "snr = 8      # signal to noise threshold, default=5\n",
    "sigma = 5    # clipping limit, in sigma units, used when performing fit, default=3\n",
    "fit_geom = 'shift' # ftype of affine transformation to be considered when fitting catalogs, default='general'\n",
    "use2dhist = False  # boolean indicating whether to use 2D histogram to find initial offset, default=True\n",
    "   \n",
    "pipe3=Image3Pipeline()    \n",
    "pipe3.tweakreg.kernel_fwhm = fwhm\n",
    "pipe3.tweakreg.snr_threshold = snr\n",
    "pipe3.tweakreg.minobj = minobj\n",
    "pipe3.tweakreg.sigma = sigma\n",
    "pipe3.tweakreg.fitgeometry = fit_geom\n",
    "pipe3.tweakreg.use2dhist = use2dhist\n",
    "pipe3.source_catalog.save_results = True\n",
    "pipe3.source_catalog.snr_threshold = snr\n",
    "pipe3.source_catalog.kernel_fwhm = fwhm\n",
    "pipe3.save_results = True\n",
    "\n",
    "# run Image3\n",
    "\n",
    "image = pipe3.run('starfield_asnfile.json')\n",
    "print('Image 3 pipeline finished.')"
   ]
  },
  {
   "cell_type": "markdown",
   "metadata": {},
   "source": [
    "<a id=\"output_ID\"></a>\n",
    "## Results\n",
    "Read in the output of the pipeline and check your results.\n",
    "\n",
    "### Read in output table of source_catalog step and print ecsv table"
   ]
  },
  {
   "cell_type": "code",
   "execution_count": null,
   "metadata": {},
   "outputs": [],
   "source": [
    "photfile = 'starfield_combined_cat.ecsv'\n",
    "input_file = 'starfield_combined_i2d.fits'"
   ]
  },
  {
   "cell_type": "code",
   "execution_count": null,
   "metadata": {},
   "outputs": [],
   "source": [
    "# Look at subset of table with full columns\n",
    "\n",
    "data = table.Table.read(photfile, format='ascii', comment='#')\n",
    "\n",
    "smalltable = data['label', 'xcentroid', 'ycentroid','aper30_flux', 'aper50_flux', 'aper70_flux', 'CI_50_30', 'CI_70_50','aper_total_flux']\n",
    "smalltable.pprint_all()"
   ]
  },
  {
   "cell_type": "code",
   "execution_count": null,
   "metadata": {},
   "outputs": [],
   "source": [
    "# Look at catalog table that shows all columns, but subset of rows\n",
    "\n",
    "catalog = Table.read(\"starfield_combined_cat.ecsv\")\n",
    "catalog"
   ]
  },
  {
   "cell_type": "markdown",
   "metadata": {},
   "source": [
    "### Display image and overplot detector sources from ecsv table "
   ]
  },
  {
   "cell_type": "code",
   "execution_count": null,
   "metadata": {},
   "outputs": [],
   "source": [
    "# Read in i2d combined Image\n",
    "im_i2d = ImageModel(input_file)    "
   ]
  },
  {
   "cell_type": "code",
   "execution_count": null,
   "metadata": {},
   "outputs": [],
   "source": [
    "# read in ecsv photom file\n",
    "from astropy.visualization import LogStretch, PercentileInterval, ManualInterval\n",
    "from astropy import table\n",
    "\n",
    "viz2 = LogStretch() + ManualInterval(0,10)\n",
    "\n",
    "plt.figure(figsize=(20,20))\n",
    "plt.imshow(viz2(im_i2d.data), origin='lower')\n",
    "#plt.imshow(im_i2d.data, origin='lower', cmap='rainbow', vmin=0, vmax=0.3)\n",
    "plt.colorbar()\n",
    "plt.scatter(data['xcentroid'], data['ycentroid'],lw=1, s=10,color='red')"
   ]
  },
  {
   "cell_type": "markdown",
   "metadata": {},
   "source": [
    "### In the image above, check that the stars found by source catalog (red) overlap with stars in the image"
   ]
  },
  {
   "cell_type": "markdown",
   "metadata": {},
   "source": [
    "### Look at the fluxes of the sources found"
   ]
  },
  {
   "cell_type": "code",
   "execution_count": null,
   "metadata": {},
   "outputs": [],
   "source": [
    "create_scatterplot(catalog['label'], catalog['aper_total_flux'],title='Total Flux in '+str(catalog['aper_total_flux'].unit))"
   ]
  },
  {
   "cell_type": "markdown",
   "metadata": {},
   "source": [
    "### Look at AB mag of sources found"
   ]
  },
  {
   "cell_type": "code",
   "execution_count": null,
   "metadata": {},
   "outputs": [],
   "source": [
    "create_scatterplot(catalog['label'], catalog['aper_total_abmag'],title='Total AB mag')"
   ]
  },
  {
   "cell_type": "markdown",
   "metadata": {},
   "source": [
    "### Manually find matches\n",
    "Since this is a simulated data set, we can compare the output catalog information from the pipeline with the input catalog information used to create the simulation. Grab the input catalog x,y values and the output catalog x and y values."
   ]
  },
  {
   "cell_type": "code",
   "execution_count": null,
   "metadata": {},
   "outputs": [],
   "source": [
    "# Read in catalogs used for simulated data\n",
    "sim_star_cat = Table.read('input_sim_stars.cat', format='ascii')\n",
    "gal_star_cat = Table.read('input_sim_galaxies.cat', format='ascii')"
   ]
  },
  {
   "cell_type": "code",
   "execution_count": null,
   "metadata": {},
   "outputs": [],
   "source": [
    "sim_star_cat\n"
   ]
  },
  {
   "cell_type": "code",
   "execution_count": null,
   "metadata": {},
   "outputs": [],
   "source": [
    "# join the star and galaxy catalogs used to make the simulations\n",
    "combined = table.vstack([sim_star_cat, gal_star_cat])\n",
    "combined"
   ]
  },
  {
   "cell_type": "markdown",
   "metadata": {},
   "source": [
    "### Use MIRI software to put x, y coordinates from input catalog into RA, Dec coordinates"
   ]
  },
  {
   "cell_type": "code",
   "execution_count": null,
   "metadata": {},
   "outputs": [],
   "source": [
    "# Put star positions into RA and Dec\n",
    "\n",
    "# import coordinate conversion tools\n",
    "import miricoord.tel.tel_tools as teltools\n",
    "import miricoord.imager.mirim_pipetools as mpt\n",
    "import miricoord.imager.mirim_tools as mt\n",
    "import pysiaf\n",
    "\n",
    "filt = 'F560W'\n",
    "# use pipeline to get v2ref and v3ref coordinates\n",
    "siaf = pysiaf.Siaf('MIRI')\n",
    "xref,yref=siaf['MIRIM_FULL'].XDetRef,siaf['MIRIM_FULL'].YDetRef\n",
    "xref,yref=xref-1,yref-1\n",
    "v2ref,v3ref=mt.xytov2v3(xref,yref,filt)\n",
    "\n",
    "# set reference for RA and Dec\n",
    "raref = 0.0\n",
    "decref = 0.0\n",
    "rollref = 0.0\n",
    "\n",
    "sim_ra = np.zeros(len(combined))\n",
    "sim_dec = np.zeros(len(combined))\n",
    "\n",
    "#print()\n",
    "\n",
    "# cycle through list of coordinates input into scene and get RA/Dec values out, printing to file\n",
    "for i in range(len(combined)):\n",
    "    #print(combined['x'][i])\n",
    "    v2 = v2ref + combined['x'][i]\n",
    "    v3 = v3ref + combined['y'][i]\n",
    "    ra,dec,newroll=teltools.jwst_v2v3toradec(v2,v3,v2ref=v2ref,v3ref=v3ref,raref=raref,decref=decref,rollref=rollref)\n",
    "    \n",
    "    sim_ra[i] = ra\n",
    "    sim_dec[i] = dec\n",
    "    \n",
    "#print(np.shape(sim_ra))\n",
    "#print(sim_ra, sim_dec)"
   ]
  },
  {
   "cell_type": "markdown",
   "metadata": {},
   "source": [
    "### Compare RA, Dec coordinates between simulator catalog and output catalog to find matches"
   ]
  },
  {
   "cell_type": "code",
   "execution_count": null,
   "metadata": {},
   "outputs": [],
   "source": [
    "cat_ra = catalog['sky_centroid'].ra.deg\n",
    "cat_dec = catalog['sky_centroid'].dec.deg"
   ]
  },
  {
   "cell_type": "code",
   "execution_count": null,
   "metadata": {},
   "outputs": [],
   "source": [
    "# set the tolerance for differences and initialize counters\n",
    "\n",
    "tol = 1.e-3\n",
    "found_count=0\n",
    "multiples_count=0\n",
    "missed_count=0"
   ]
  },
  {
   "cell_type": "code",
   "execution_count": null,
   "metadata": {},
   "outputs": [],
   "source": [
    "# Set up array for matches\n",
    "detected = np.chararray(len(sim_ra))\n",
    "#print(np.shape(detected))\n",
    "\n",
    "for ra,dec,idx in zip(sim_ra, sim_dec,range(len(sim_ra))):\n",
    "\n",
    "    match = np.where((np.abs(ra-cat_ra) < tol) & (np.abs(dec-cat_dec) < tol))\n",
    "    #print('match', match)\n",
    "    \n",
    "    if np.size(match) == 1: \n",
    "        found_count +=1 \n",
    "        detected[idx] = 'Y'\n",
    "        #test_outputs['RA'][idx] = cat_ra[match]\n",
    "        #test_outputs['Dec'][idx] = cat_dec[match]\n",
    "        #test_outputs['RA_Diff'][idx] = np.abs(ra-cat_ra[match])\n",
    "        #test_outputs['Dec_Diff'][idx] = np.abs(dec-cat_dec[match])  \n",
    "\n",
    "    if np.size(match) > 1:  \n",
    "        multiples_count +=1       \n",
    "        \n",
    "    if np.size(match) < 1:\n",
    "        missed_count +=1\n",
    "\n",
    "#print(np.shape(detected))"
   ]
  },
  {
   "cell_type": "code",
   "execution_count": null,
   "metadata": {},
   "outputs": [],
   "source": [
    "total_percent_found = (found_count/len(sim_ra))*100\n",
    "\n",
    "print('\\n')\n",
    "print('SNR threshold used for pipeline: ',pipe3.source_catalog.snr_threshold)\n",
    "print('Total matches found:',found_count)\n",
    "print('Total missed:',missed_count)\n",
    "print('Number of multiples: ',multiples_count)\n",
    "print('Total number of input (simulated) sources:',len(combined))\n",
    "print('Total number in output catalog:',len(catalog))\n",
    "print('Total percent found:',total_percent_found)\n",
    "print('\\n')"
   ]
  },
  {
   "cell_type": "markdown",
   "metadata": {},
   "source": [
    "### Use photutils to find catalog matches\n",
    "\n",
    "Photutils includes a package to match sources between catalogs by providing a max separation value. Set that value and compare the two catalogs.\n"
   ]
  },
  {
   "cell_type": "code",
   "execution_count": null,
   "metadata": {},
   "outputs": [],
   "source": [
    "catalog_in = SkyCoord(ra=sim_ra*u.degree, dec=sim_dec*u.degree)\n",
    "catalog_out = SkyCoord(ra=cat_ra*u.degree, dec=cat_dec*u.degree)"
   ]
  },
  {
   "cell_type": "code",
   "execution_count": null,
   "metadata": {},
   "outputs": [],
   "source": [
    "max_sep = 1.0 * u.arcsec"
   ]
  },
  {
   "cell_type": "code",
   "execution_count": null,
   "metadata": {},
   "outputs": [],
   "source": [
    "idx, d2d, d3d = catalog_in.match_to_catalog_sky(catalog_out)\n",
    "sep_constraint = d2d < max_sep\n",
    "catalog_in_matches = catalog_in[sep_constraint]\n",
    "catalog_out_matches = catalog_out[idx[sep_constraint]]"
   ]
  },
  {
   "cell_type": "markdown",
   "metadata": {},
   "source": [
    "Now, catalog_in_matches and catalog_out_matches are the matched sources in catalog_in and catalog_out, respectively, which are separated less than our max_sep value."
   ]
  },
  {
   "cell_type": "code",
   "execution_count": null,
   "metadata": {},
   "outputs": [],
   "source": [
    "print('Number of matched sources using max separation of '+str(max_sep)+': ',len(catalog_out_matches))"
   ]
  },
  {
   "cell_type": "markdown",
   "metadata": {},
   "source": [
    "The number above may include multiply matched sources (since the number of matched sources is more than the number of total sources in the catalog from calwebb_image3)."
   ]
  },
  {
   "cell_type": "markdown",
   "metadata": {},
   "source": [
    "#### About this Notebook\n",
    "\n",
    "Author: M. Cracraft and T. Temim, MIRI Branch\n",
    "\n",
    "Updated On: 07/14/2021\n"
   ]
  },
  {
   "cell_type": "code",
   "execution_count": null,
   "metadata": {},
   "outputs": [],
   "source": []
  }
 ],
 "metadata": {
  "kernelspec": {
   "display_name": "Python 3",
   "language": "python",
   "name": "python3"
  },
  "language_info": {
   "codemirror_mode": {
    "name": "ipython",
    "version": 3
   },
   "file_extension": ".py",
   "mimetype": "text/x-python",
   "name": "python",
   "nbconvert_exporter": "python",
   "pygments_lexer": "ipython3",
   "version": "3.8.10"
  }
 },
 "nbformat": 4,
 "nbformat_minor": 4
}
